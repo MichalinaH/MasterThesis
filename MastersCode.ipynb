{
 "cells": [
  {
   "cell_type": "code",
   "execution_count": 1,
   "metadata": {},
   "outputs": [],
   "source": [
    "import tensorflow as tf\n",
    "import os"
   ]
  },
  {
   "cell_type": "code",
   "execution_count": 2,
   "metadata": {},
   "outputs": [],
   "source": [
    "# Avoid OOM errors by setting GPU Memory Consumption Growth\n",
    "gpus = tf.config.experimental.list_physical_devices('GPU')\n",
    "for gpu in gpus: \n",
    "    tf.config.experimental.set_memory_growth(gpu, True)"
   ]
  },
  {
   "cell_type": "code",
   "execution_count": 3,
   "metadata": {},
   "outputs": [
    {
     "data": {
      "text/plain": [
       "[]"
      ]
     },
     "execution_count": 3,
     "metadata": {},
     "output_type": "execute_result"
    }
   ],
   "source": [
    "tf.config.list_physical_devices('GPU')\n"
   ]
  },
  {
   "cell_type": "code",
   "execution_count": 4,
   "metadata": {},
   "outputs": [
    {
     "name": "stderr",
     "output_type": "stream",
     "text": [
      "C:\\Users\\Administrator\\AppData\\Local\\Temp\\ipykernel_18204\\4232469594.py:2: DeprecationWarning: 'imghdr' is deprecated and slated for removal in Python 3.13\n",
      "  import imghdr\n"
     ]
    }
   ],
   "source": [
    "import cv2\n",
    "import imghdr"
   ]
  },
  {
   "cell_type": "code",
   "execution_count": 5,
   "metadata": {},
   "outputs": [],
   "source": [
    "data_dir = 'data' \n",
    "image_exts = ['jpeg','jpg', 'png']\n"
   ]
  },
  {
   "cell_type": "code",
   "execution_count": 6,
   "metadata": {},
   "outputs": [
    {
     "name": "stdout",
     "output_type": "stream",
     "text": [
      "Image not in ext list data\\Degas\\degas_edgar.jpg\n",
      "Image not in ext list data\\Degas\\degas_edgar_1.jpg\n",
      "Image not in ext list data\\Degas\\degas_edgar_3.jpg\n",
      "Image not in ext list data\\Degas\\edgar-degas-update-880.jpg\n",
      "Image not in ext list data\\Lorrain\\220px-F0087_Louvre_Gellee_port_au_soleil_couchant-_INV4715_rwk.jpg\n",
      "Image not in ext list data\\Lorrain\\Landscape20with20St20Paula20of20Rome20Embarking20at20Ostia20Claude20Lorrain.jpg\n",
      "Image not in ext list data\\Lorrain\\lorrain_claude_2.jpg\n",
      "Image not in ext list data\\Monet\\Famous-Monet-Paintings.jpg\n",
      "Image not in ext list data\\Monet\\monet_claude_525.jpg\n",
      "Image not in ext list data\\Munch\\bio_box_munch_edvard.jpg\n",
      "Image not in ext list data\\Munch\\munch_edvard.jpg\n",
      "Image not in ext list data\\Munch\\munch_edvard_3.jpg\n",
      "Image not in ext list data\\Poussin\\banner.jpg\n",
      "Image not in ext list data\\Poussin\\neoclassicism_4.jpg\n",
      "Image not in ext list data\\Poussin\\poussin_nicolas_6.jpg\n",
      "Image not in ext list data\\VanGogh\\van_gogh_vincent.jpg\n"
     ]
    }
   ],
   "source": [
    "for image_class in os.listdir(data_dir): \n",
    "    for image in os.listdir(os.path.join(data_dir, image_class)):\n",
    "        image_path = os.path.join(data_dir, image_class, image)\n",
    "        try: \n",
    "            img = cv2.imread(image_path)\n",
    "            tip = imghdr.what(image_path)\n",
    "            if tip not in image_exts: \n",
    "                print('Image not in ext list {}'.format(image_path))\n",
    "                os.remove(image_path)\n",
    "        except Exception as e: \n",
    "            print('Issue with image {}'.format(image_path))\n",
    "            # os.remove(image_path)"
   ]
  },
  {
   "cell_type": "code",
   "execution_count": 7,
   "metadata": {},
   "outputs": [],
   "source": [
    "import numpy as np\n",
    "from matplotlib import pyplot as plt"
   ]
  },
  {
   "cell_type": "code",
   "execution_count": null,
   "metadata": {},
   "outputs": [],
   "source": []
  }
 ],
 "metadata": {
  "kernelspec": {
   "display_name": "Python 3",
   "language": "python",
   "name": "python3"
  },
  "language_info": {
   "codemirror_mode": {
    "name": "ipython",
    "version": 3
   },
   "file_extension": ".py",
   "mimetype": "text/x-python",
   "name": "python",
   "nbconvert_exporter": "python",
   "pygments_lexer": "ipython3",
   "version": "3.11.3"
  },
  "orig_nbformat": 4
 },
 "nbformat": 4,
 "nbformat_minor": 2
}
