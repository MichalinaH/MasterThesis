{
 "cells": [
  {
   "cell_type": "code",
   "execution_count": 5,
   "metadata": {},
   "outputs": [],
   "source": [
    "import tensorflow as tf"
   ]
  },
  {
   "cell_type": "code",
   "execution_count": 6,
   "metadata": {},
   "outputs": [
    {
     "name": "stdout",
     "output_type": "stream",
     "text": [
      "Num GPUs Available:  1\n"
     ]
    }
   ],
   "source": [
    "print(\"Num GPUs Available: \", len(tf.config.list_physical_devices('GPU')))"
   ]
  },
  {
   "cell_type": "code",
   "execution_count": 7,
   "metadata": {},
   "outputs": [
    {
     "name": "stdout",
     "output_type": "stream",
     "text": [
      "1 Physical GPUs, 1 Logical GPU\n"
     ]
    }
   ],
   "source": [
    "gpus = tf.config.list_physical_devices('GPU')\n",
    "if gpus:\n",
    "  try:\n",
    "    # Ustawienie pierwszego GPU dostępnego dla TensorFlow\n",
    "    tf.config.set_visible_devices(gpus[0], 'GPU')\n",
    "    logical_gpus = tf.config.list_logical_devices('GPU')\n",
    "    print(len(gpus), \"Physical GPUs,\", len(logical_gpus), \"Logical GPU\")\n",
    "  except RuntimeError as e:\n",
    "    # Wyjątek może zostać wyrzucony jeśli lista urządzeń jest modyfikowana po zainicjowaniu przez TensorFlow\n",
    "    print(e)\n"
   ]
  },
  {
   "cell_type": "code",
   "execution_count": 8,
   "metadata": {},
   "outputs": [],
   "source": [
    "train_dir = 'data/training/'\n",
    "valid_dir = 'data/validation/'\n",
    "test_dir  = 'data/files_for_testing/'"
   ]
  },
  {
   "cell_type": "code",
   "execution_count": 15,
   "metadata": {},
   "outputs": [],
   "source": [
    "import os\n",
    "\n",
    "def create_data_loaders(train_dir, valid_dir, test_dir, batch_size, img_size=(224,224)):\n",
    "    AUTOTUNE = tf.data.experimental.AUTOTUNE\n",
    "\n",
    "    def preprocess_img(image, label):\n",
    "        return tf.image.resize(image, img_size), label\n",
    "    \n",
    "    train_dataset_raw = tf.keras.preprocessing.image_dataset_from_directory(\n",
    "        train_dir,\n",
    "        shuffle = True,\n",
    "        batch_size = batch_size,\n",
    "        image_size = img_size\n",
    "    )\n",
    "\n",
    "    valid_dataset_raw = tf.keras.preprocessing.image_dataset_from_directory(\n",
    "        valid_dir,\n",
    "        shuffle = True,\n",
    "        batch_size = batch_size,\n",
    "        image_size = img_size\n",
    "    )\n",
    "\n",
    "    test_dataset_raw = tf.keras.preprocessing.image_dataset_from_directory(\n",
    "        test_dir,\n",
    "        shuffle = False,\n",
    "        batch_size = batch_size,\n",
    "        image_size = img_size\n",
    "    )\n",
    "\n",
    "    class_names = train_dataset_raw.class_names\n",
    "\n",
    "    train_dataset = train_dataset_raw.map(preprocess_img, num_parallel_calls=AUTOTUNE).prefetch(buffer_size=AUTOTUNE)\n",
    "    valid_dataset = valid_dataset_raw.map(preprocess_img, num_parallel_calls=AUTOTUNE).prefetch(buffer_size=AUTOTUNE)\n",
    "    test_dataset = test_dataset_raw.map(preprocess_img, num_parallel_calls=AUTOTUNE).prefetch(buffer_size=AUTOTUNE)\n",
    "\n",
    "    return train_dataset, valid_dataset, test_dataset, class_names\n",
    "\n"
   ]
  },
  {
   "cell_type": "code",
   "execution_count": 17,
   "metadata": {},
   "outputs": [
    {
     "name": "stdout",
     "output_type": "stream",
     "text": [
      "Found 4352 files belonging to 7 classes.\n",
      "Found 1159 files belonging to 7 classes.\n",
      "Found 295 files belonging to 7 classes.\n"
     ]
    }
   ],
   "source": [
    "batch_size = 32\n",
    "train_dataset, valid_dataset, test_dataset, class_names = create_data_loaders(train_dir, valid_dir, test_dir, batch_size)"
   ]
  },
  {
   "cell_type": "code",
   "execution_count": 18,
   "metadata": {},
   "outputs": [
    {
     "name": "stdout",
     "output_type": "stream",
     "text": [
      "Classes: ['Degas', 'Lorrain', 'Monet', 'Munch', 'Poussin', 'Renoir', 'VanGogh']\n"
     ]
    }
   ],
   "source": [
    "print(\"Classes:\", class_names)"
   ]
  },
  {
   "cell_type": "code",
   "execution_count": 19,
   "metadata": {},
   "outputs": [],
   "source": [
    "def decode(message_file):\n",
    "    with open(message_file, 'r') as file:\n",
    "        lines = file.readlines()\n",
    "    \n",
    "    number_word_pairs = {}\n",
    "    for line in lines:\n",
    "        parts = line.strip().split(' ')\n",
    "        number_word_pairs[int(parts[0])] = ' '.join(parts[1:])\n",
    "    \n",
    "    message_numbers = []\n",
    "    current_line_length = 1\n",
    "    current_number = 1\n",
    "    \n",
    "    while current_number in number_word_pairs:\n",
    "        message_numbers.append(current_number)\n",
    "        current_line_length += 1\n",
    "        current_number += current_line_length\n",
    "    \n",
    "    message_words = [number_word_pairs[num] for num in message_numbers if num in number_word_pairs]\n",
    "    return ' '.join(message_words)"
   ]
  },
  {
   "cell_type": "code",
   "execution_count": 20,
   "metadata": {},
   "outputs": [
    {
     "name": "stdout",
     "output_type": "stream",
     "text": [
      "design all skill whole check deal wish visit now moment offer planet people electric lot huge system card current man way our parent wait\n"
     ]
    }
   ],
   "source": [
    "decoded_message = decode('coding_qual_input.txt')\n",
    "print(decoded_message)"
   ]
  }
 ],
 "metadata": {
  "kernelspec": {
   "display_name": "master_thesis",
   "language": "python",
   "name": "python3"
  },
  "language_info": {
   "codemirror_mode": {
    "name": "ipython",
    "version": 3
   },
   "file_extension": ".py",
   "mimetype": "text/x-python",
   "name": "python",
   "nbconvert_exporter": "python",
   "pygments_lexer": "ipython3",
   "version": "3.10.13"
  }
 },
 "nbformat": 4,
 "nbformat_minor": 2
}
